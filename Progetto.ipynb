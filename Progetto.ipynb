{
 "cells": [
  {
   "cell_type": "code",
   "execution_count": 2,
   "id": "5664e89e-9fae-4dd1-98a3-bcd538a67cfe",
   "metadata": {},
   "outputs": [
    {
     "name": "stdout",
     "output_type": "stream",
     "text": [
      "       name     role         type demographic  \\\n",
      "0   parents  Feature  Categorical        None   \n",
      "1  has_nurs  Feature  Categorical        None   \n",
      "2      form  Feature  Categorical        None   \n",
      "3  children  Feature  Categorical        None   \n",
      "4   housing  Feature  Categorical        None   \n",
      "5   finance  Feature  Categorical        None   \n",
      "6    social  Feature  Categorical        None   \n",
      "7    health  Feature  Categorical        None   \n",
      "8     class   Target  Categorical        None   \n",
      "\n",
      "                                         description units missing_values  \n",
      "0                     usual, pretentious, great_pret  None             no  \n",
      "1  proper, less_proper, improper, critical, very_...  None             no  \n",
      "2            complete, completed, incomplete, foster  None             no  \n",
      "3                                      1, 2, 3, more  None             no  \n",
      "4                    convenient, less_conv, critical  None             no  \n",
      "5                                 convenient, inconv  None             no  \n",
      "6               non-prob, slightly_prob, problematic  None             no  \n",
      "7                   recommended, priority, not_recom  None             no  \n",
      "8                   recommended, priority, not_recom  None             no  \n"
     ]
    }
   ],
   "source": [
    "from ucimlrepo import fetch_ucirepo \n",
    "  \n",
    "# fetch dataset \n",
    "nursery = fetch_ucirepo(id=76) \n",
    "  \n",
    "# data (as pandas dataframes) \n",
    "X = nursery.data.features \n",
    "y = nursery.data.targets \n",
    "  \n",
    "# variable information \n",
    "print(nursery.variables) \n"
   ]
  },
  {
   "cell_type": "code",
   "execution_count": null,
   "id": "3fc28b20-c9f3-4546-81fa-638e91782843",
   "metadata": {},
   "outputs": [],
   "source": []
  }
 ],
 "metadata": {
  "kernelspec": {
   "display_name": "Python 3 (ipykernel)",
   "language": "python",
   "name": "python3"
  },
  "language_info": {
   "codemirror_mode": {
    "name": "ipython",
    "version": 3
   },
   "file_extension": ".py",
   "mimetype": "text/x-python",
   "name": "python",
   "nbconvert_exporter": "python",
   "pygments_lexer": "ipython3",
   "version": "3.13.2"
  }
 },
 "nbformat": 4,
 "nbformat_minor": 5
}
